{
 "cells": [
  {
   "cell_type": "markdown",
   "metadata": {},
   "source": [
    "# U.S. Medical Insurance Costs"
   ]
  },
  {
   "cell_type": "markdown",
   "metadata": {},
   "source": [
    "For this project, we will be analyzing an insurance dataset in the form of a .csv file. "
   ]
  },
  {
   "cell_type": "markdown",
   "metadata": {},
   "source": [
    "# Importing the necessary libraries"
   ]
  },
  {
   "cell_type": "markdown",
   "metadata": {},
   "source": [
    "First, we will import the necessary libraries needed for the project"
   ]
  },
  {
   "cell_type": "code",
   "execution_count": 77,
   "metadata": {},
   "outputs": [],
   "source": [
    "import csv "
   ]
  },
  {
   "cell_type": "markdown",
   "metadata": {},
   "source": [
    "# Reading and Storing the data"
   ]
  },
  {
   "cell_type": "markdown",
   "metadata": {},
   "source": [
    "Next, we will open 'insurance.csv' and store the data in associated lists."
   ]
  },
  {
   "cell_type": "code",
   "execution_count": 78,
   "metadata": {},
   "outputs": [],
   "source": [
    "ages = []\n",
    "sex = []\n",
    "bmi = []\n",
    "children = []\n",
    "smoker_status = []\n",
    "region = []\n",
    "insurance_charges = []"
   ]
  },
  {
   "cell_type": "code",
   "execution_count": 79,
   "metadata": {},
   "outputs": [],
   "source": [
    "def load_data(lst, csv_file, column_name):\n",
    "    with open('insurance.csv') as insurance_file:\n",
    "        csv_dict = csv.DictReader(insurance_file)\n",
    "        for row in csv_dict:\n",
    "            lst.append(row[column_name])\n",
    "        return lst"
   ]
  },
  {
   "cell_type": "code",
   "execution_count": 85,
   "metadata": {},
   "outputs": [],
   "source": [
    "load_data(ages, 'insurance.csv', 'age');\n",
    "load_data(sex, 'insurance.csv', 'sex');\n",
    "load_data(bmi, 'insurance.csv', 'bmi');\n",
    "load_data(children, 'insurance.csv', 'children');\n",
    "load_data(smoker_status, 'insurance.csv', 'smoker');\n",
    "load_data(region, 'insurance.csv', 'region');\n",
    "load_data(insurance_charges, 'insurance.csv', 'charges');"
   ]
  },
  {
   "cell_type": "markdown",
   "metadata": {},
   "source": [
    "# Analysis "
   ]
  },
  {
   "cell_type": "markdown",
   "metadata": {},
   "source": [
    "Function to find the average age in the dataset. "
   ]
  },
  {
   "cell_type": "code",
   "execution_count": 81,
   "metadata": {},
   "outputs": [
    {
     "name": "stdout",
     "output_type": "stream",
     "text": [
      "39.20702541106129\n"
     ]
    }
   ],
   "source": [
    "def averageAge(ages):\n",
    "    sum = 0\n",
    "    for age in ages:\n",
    "        sum += int(age)\n",
    "    return sum/len(ages)\n",
    "\n",
    "print(averageAge(ages))"
   ]
  },
  {
   "cell_type": "markdown",
   "metadata": {},
   "source": [
    "We can see that the average age is `~39`"
   ]
  },
  {
   "cell_type": "markdown",
   "metadata": {},
   "source": [
    "Finding the region where the majority in the dataset comes from."
   ]
  },
  {
   "cell_type": "code",
   "execution_count": 82,
   "metadata": {},
   "outputs": [
    {
     "name": "stdout",
     "output_type": "stream",
     "text": [
      "{'southwest': 324, 'southeast': 363, 'northwest': 324, 'northeast': 323}\n"
     ]
    }
   ],
   "source": [
    "def averageRegion(region):\n",
    "        regionCount = {}\n",
    "        for region in region:\n",
    "            if not region in regionCount:\n",
    "                regionCount[region] = 0\n",
    "            else:\n",
    "                currentCount = regionCount[region] + 1\n",
    "                regionCount[region] = currentCount\n",
    "        return regionCount\n",
    "\n",
    "print(averageRegion(region))"
   ]
  },
  {
   "cell_type": "markdown",
   "metadata": {},
   "source": [
    "We can see that the majority come from the `Southeast` at `363 times`"
   ]
  },
  {
   "cell_type": "markdown",
   "metadata": {},
   "source": [
    "Analyzing the difference cost between smokers vs. non-smokers."
   ]
  },
  {
   "cell_type": "code",
   "execution_count": 83,
   "metadata": {},
   "outputs": [
    {
     "name": "stdout",
     "output_type": "stream",
     "text": [
      "The average insurance charge of smokers: 32050.23183153285\n",
      "The average insurance charge of non-smokers: 8434.268297856199\n",
      "The insurance charge difference between smokers and non-smokers: 23615.96353367665\n",
      "Total number of smokers: 274\n",
      "Total number of non-smokers: 1064\n",
      "None\n"
     ]
    }
   ],
   "source": [
    "def smokerDifference(smoker_status, insurance_charges):\n",
    "        smokerPatients = []\n",
    "        nonSmokerPatients = []\n",
    "        smokerSum = 0\n",
    "        nonSmokerSum = 0\n",
    "        \n",
    "        for i,patient in enumerate(smoker_status):\n",
    "            if(patient == \"yes\"):\n",
    "                smokerPatients.append(i)\n",
    "            else:\n",
    "                nonSmokerPatients.append(i)\n",
    "        \n",
    "        for smoker in smokerPatients:\n",
    "            smokerSum += float(insurance_charges[smoker])\n",
    "            smokerAverage = smokerSum / len(smokerPatients)\n",
    "            \n",
    "        for nonSmoker in nonSmokerPatients:\n",
    "            nonSmokerSum += float(insurance_charges[nonSmoker])\n",
    "            nonSmokerAverage = nonSmokerSum / len(nonSmokerPatients)\n",
    "         \n",
    "        smokerDifference = abs(smokerAverage - nonSmokerAverage)\n",
    "        \n",
    "        print(\"The average insurance charge of smokers: \" + str(smokerAverage))\n",
    "        print(\"The average insurance charge of non-smokers: \" + str(nonSmokerAverage))\n",
    "        print(\"The insurance charge difference between smokers and non-smokers: \" + str(smokerDifference))\n",
    "        print(\"Total number of smokers: \" + str(len(smokerPatients)))\n",
    "        print(\"Total number of non-smokers: \" + str(len(nonSmokerPatients)))\n",
    "        \n",
    "print(smokerDifference(smoker_status, insurance_charges))"
   ]
  },
  {
   "cell_type": "markdown",
   "metadata": {},
   "source": [
    "With this function, we can see that the insurance charge difference between smokers and non-smokers is `~23616.0`. This number can tell us that on average, smokers pay more than non-smokers. Added, we can also see that the majority of people in that dataset are non-smokers. This can indicate potential bias in the sampling of the data."
   ]
  },
  {
   "cell_type": "markdown",
   "metadata": {},
   "source": [
    "Average age for someone with at least one child."
   ]
  },
  {
   "cell_type": "code",
   "execution_count": 84,
   "metadata": {},
   "outputs": [
    {
     "name": "stdout",
     "output_type": "stream",
     "text": [
      "22.714499252615845\n"
     ]
    }
   ],
   "source": [
    "def childrenAgeAverage(children, ages):\n",
    "    patientsWithChildren = []\n",
    "    ageSum = 0\n",
    "        \n",
    "    for i,count in enumerate(children):\n",
    "        if int(count) > 0:\n",
    "            patientsWithChildren.append(i)\n",
    "        \n",
    "    for i in patientsWithChildren:\n",
    "        ageSum += int(ages[i])\n",
    "            \n",
    "    return ageSum / len(ages)\n",
    "\n",
    "print(childrenAgeAverage(children, ages))"
   ]
  },
  {
   "cell_type": "markdown",
   "metadata": {},
   "source": [
    "This function tells us that the average age of someone with at least one child is `~22 years old`"
   ]
  },
  {
   "cell_type": "markdown",
   "metadata": {},
   "source": [
    "# Conclusion"
   ]
  },
  {
   "cell_type": "markdown",
   "metadata": {},
   "source": [
    "Within this project, we have analyzed a dataset containing information about US Medical Insurance Costs. After analyzing this dataset, we went more in depth b examining the average age, majority region, insurance cost difference between smokers and non-smokers, and the average age of someone with at least one child. "
   ]
  }
 ],
 "metadata": {
  "kernelspec": {
   "display_name": "Python 3 (ipykernel)",
   "language": "python",
   "name": "python3"
  },
  "language_info": {
   "codemirror_mode": {
    "name": "ipython",
    "version": 3
   },
   "file_extension": ".py",
   "mimetype": "text/x-python",
   "name": "python",
   "nbconvert_exporter": "python",
   "pygments_lexer": "ipython3",
   "version": "3.10.9"
  }
 },
 "nbformat": 4,
 "nbformat_minor": 4
}
